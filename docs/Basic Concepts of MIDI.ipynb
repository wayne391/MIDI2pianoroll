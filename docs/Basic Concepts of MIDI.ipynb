{
 "cells": [
  {
   "cell_type": "code",
   "execution_count": 1,
   "metadata": {
    "collapsed": true
   },
   "outputs": [],
   "source": [
    "import mido\n",
    "import pprint"
   ]
  },
  {
   "cell_type": "markdown",
   "metadata": {},
   "source": [
    "# Basic Concepts of MIDI\n",
    "In this notebook, I only introduce some basic but important concepts which are related to implementations.   \n",
    "To get further understanding, you can follow the links in [here](https://mido.readthedocs.io/en/latest/about_midi.html#further-reading).   \n",
    "The introduction is mainly based on an excellent python package - [MIDO](https://mido.readthedocs.io/en/latest/).\n",
    "\n",
    "\n",
    "\n",
    "## Contents\n",
    "1. MIDI File\n",
    "2. Design of Time\n",
    "3. Program Number\n",
    "4. Contorl Change\n",
    "\n",
    "------\n",
    "  \n",
    "## MIDI File\n",
    "[Refernece](https://mido.readthedocs.io/en/latest/midi_files.html)  \n",
    "\n",
    "First of all, we display the contents of two MIDI files: **'test1.mid'** and **'test2.mid'**, which are under the 'materials/'. folder. **'test1.mid'** is a piano solo and containing various changes in tempo and sustain pedal. **'test2.mid'** is a typical piece with multiple tracks.\n",
    "\n",
    "#### message types:\n",
    "https://mido.readthedocs.io/en/latest/message_types.html#parameter-types"
   ]
  },
  {
   "cell_type": "code",
   "execution_count": 2,
   "metadata": {},
   "outputs": [
    {
     "name": "stdout",
     "output_type": "stream",
     "text": [
      "\n",
      "================ test1 =================\n",
      "{'charset': 'latin1',\n",
      " 'debug': False,\n",
      " 'filename': 'materials/test1.mid',\n",
      " 'ticks_per_beat': 192,\n",
      " 'tracks': [<midi track 'Cuartito Azul' 2561 messages>],\n",
      " 'type': 0}\n",
      "\n",
      "================ test2 =================\n",
      "{'charset': 'latin1',\n",
      " 'debug': False,\n",
      " 'filename': 'materials/test2.mid',\n",
      " 'ticks_per_beat': 192,\n",
      " 'tracks': [<midi track '' 8 messages>,\n",
      "            <midi track 'Guitar' 4330 messages>,\n",
      "            <midi track 'Harmonica' 1624 messages>,\n",
      "            <midi track 'Bass' 1368 messages>,\n",
      "            <midi track 'Drums - Hi Hat/Cymbals' 1385 messages>,\n",
      "            <midi track 'Drums - Snare/Toms' 679 messages>,\n",
      "            <midi track 'Drums - Bass Drum' 1051 messages>],\n",
      " 'type': 1}\n"
     ]
    }
   ],
   "source": [
    "midifile_1 = 'materials/test1.mid'\n",
    "midifile_2 = 'materials/test2.mid'\n",
    "mid_1 = mido.MidiFile(midifile_1)\n",
    "mid_2 = mido.MidiFile(midifile_2)\n",
    "print('\\n{:=^40}'.format(' test1 '))\n",
    "pprint.pprint(vars(mid_1))\n",
    "print('\\n{:=^40}'.format(' test2 '))\n",
    "pprint.pprint(vars(mid_2))"
   ]
  },
  {
   "cell_type": "markdown",
   "metadata": {},
   "source": [
    "------\n",
    "\n",
    "## Design of Time \n",
    "[Reference](https://mido.readthedocs.io/en/latest/midi_files.html#about-the-time-attribute)  \n",
    "\n",
    "* tick & beat\n",
    "* delta time\n",
    "* microseconds per beats\n",
    "\n",
    "<img src=\"materials/midi_time.png\">\n",
    " "
   ]
  },
  {
   "cell_type": "code",
   "execution_count": 7,
   "metadata": {},
   "outputs": [
    {
     "name": "stdout",
     "output_type": "stream",
     "text": [
      "<meta message midi_port port=0 time=0>\n",
      "<meta message text text='Guitar' time=0>\n",
      "<meta message track_name name='Guitar' time=0>\n",
      "<meta message instrument_name name='Guitar' time=0>\n",
      "program_change channel=0 program=30 time=0\n",
      "control_change channel=0 control=7 value=100 time=0\n",
      "control_change channel=0 control=10 value=64 time=0\n",
      "note_on channel=0 note=64 velocity=92 time=0\n",
      "note_on channel=0 note=69 velocity=92 time=0\n",
      "note_on channel=0 note=64 velocity=0 time=160\n",
      "note_on channel=0 note=69 velocity=0 time=0\n",
      "note_on channel=0 note=72 velocity=92 time=32\n",
      "note_on channel=0 note=72 velocity=0 time=46\n",
      "note_on channel=0 note=74 velocity=92 time=2\n",
      "note_on channel=0 note=74 velocity=0 time=94\n",
      "note_on channel=0 note=76 velocity=92 time=2\n",
      "note_on channel=0 note=76 velocity=0 time=48\n",
      "note_on channel=0 note=75 velocity=92 time=0\n",
      "note_on channel=0 note=75 velocity=0 time=48\n",
      "note_on channel=0 note=72 velocity=92 time=0\n",
      "note_on channel=0 note=72 velocity=0 time=46\n"
     ]
    }
   ],
   "source": [
    "for idx, event in enumerate(mid_2.tracks[1]):\n",
    "    if idx > 20:\n",
    "        break\n",
    "    print(event)"
   ]
  },
  {
   "cell_type": "markdown",
   "metadata": {},
   "source": [
    "## Program Number\n",
    "\n",
    "https://www.midi.org/specifications-old/item/gm-level-1-sound-set\n",
    "\n",
    "## Control Change\n",
    "https://www.midi.org/specifications-old/item/table-3-control-change-messages-data-bytes-2"
   ]
  }
 ],
 "metadata": {
  "anaconda-cloud": {},
  "kernelspec": {
   "display_name": "Python 3",
   "language": "python",
   "name": "python3"
  },
  "language_info": {
   "codemirror_mode": {
    "name": "ipython",
    "version": 3
   },
   "file_extension": ".py",
   "mimetype": "text/x-python",
   "name": "python",
   "nbconvert_exporter": "python",
   "pygments_lexer": "ipython3",
   "version": "3.6.1"
  }
 },
 "nbformat": 4,
 "nbformat_minor": 1
}
